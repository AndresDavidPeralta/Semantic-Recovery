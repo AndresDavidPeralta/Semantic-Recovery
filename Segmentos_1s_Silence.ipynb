{
 "cells": [
  {
   "cell_type": "code",
   "execution_count": 1,
   "metadata": {},
   "outputs": [],
   "source": [
    "!pip install noisereduce > noisereduce.log\n",
    "!pip install keras_nlp > keras_nlp.log\n",
    "!pip install kapre > kapre.log\n",
    "#%pip install torch > torch.log"
   ]
  },
  {
   "cell_type": "code",
   "execution_count": 3,
   "metadata": {},
   "outputs": [
    {
     "name": "stderr",
     "output_type": "stream",
     "text": [
      "2023-11-03 09:11:28.523916: I tensorflow/tsl/cuda/cudart_stub.cc:28] Could not find cuda drivers on your machine, GPU will not be used.\n",
      "2023-11-03 09:11:28.546543: I tensorflow/tsl/cuda/cudart_stub.cc:28] Could not find cuda drivers on your machine, GPU will not be used.\n",
      "2023-11-03 09:11:28.546993: I tensorflow/core/platform/cpu_feature_guard.cc:182] This TensorFlow binary is optimized to use available CPU instructions in performance-critical operations.\n",
      "To enable the following instructions: AVX2 FMA, in other operations, rebuild TensorFlow with the appropriate compiler flags.\n",
      "2023-11-03 09:11:29.078420: W tensorflow/compiler/tf2tensorrt/utils/py_utils.cc:38] TF-TRT Warning: Could not find TensorRT\n"
     ]
    },
    {
     "name": "stdout",
     "output_type": "stream",
     "text": [
      "Using TensorFlow backend\n"
     ]
    }
   ],
   "source": [
    "from scipy.io import wavfile\n",
    "import noisereduce as nr\n",
    "import numpy as np\n",
    "import soundfile as sf # poder carregar um arquivo no formato .flac\n",
    "import librosa as lb\n",
    "import numpy as np\n",
    "import os\n",
    "import matplotlib.pyplot as plt\n",
    "%matplotlib inline\n",
    "import tensorflow as tf\n",
    "from tensorflow import keras\n",
    "import keras_nlp\n",
    "from tensorflow.keras.layers import Input, Dense, GlobalAveragePooling1D\n",
    "from keras_nlp.layers import TransformerEncoder, TransformerDecoder, RandomDeletion\n",
    "from tensorflow.keras import layers\n",
    "from kapre.augmentation import SpecAugment\n",
    "from kapre.composed import get_melspectrogram_layer\n",
    "from sklearn.model_selection import train_test_split\n",
    "import random\n",
    "from tensorflow.keras import layers, models\n",
    "from tensorflow.keras.optimizers import Adam"
   ]
  },
  {
   "cell_type": "code",
   "execution_count": 7,
   "metadata": {},
   "outputs": [],
   "source": [
    "directorio_audio = '/home/andres/Área de Trabalho/Andrés Peralta/Tesis/Código/wave_44kHz'"
   ]
  },
  {
   "cell_type": "code",
   "execution_count": 8,
   "metadata": {},
   "outputs": [
    {
     "ename": "LibsndfileError",
     "evalue": "Error opening '/home/andres/Área de Trabalho/Andrés Peralta/Tesis/Código/44Hz.Wav/hylaedactylus_6.wav': System error.",
     "output_type": "error",
     "traceback": [
      "\u001b[0;31m---------------------------------------------------------------------------\u001b[0m",
      "\u001b[0;31mLibsndfileError\u001b[0m                           Traceback (most recent call last)",
      "Cell \u001b[0;32mIn[8], line 4\u001b[0m\n\u001b[1;32m      1\u001b[0m audios \u001b[39m=\u001b[39m [audio \u001b[39mfor\u001b[39;00m audio \u001b[39min\u001b[39;00m os\u001b[39m.\u001b[39mlistdir(\u001b[39m'\u001b[39m\u001b[39m/home/andres/Área de Trabalho/Andrés Peralta/Tesis/Código/wave_44kHz\u001b[39m\u001b[39m'\u001b[39m) \u001b[39mif\u001b[39;00m os\u001b[39m.\u001b[39mpath\u001b[39m.\u001b[39misfile(\u001b[39m'\u001b[39m\u001b[39m/home/andres/Área de Trabalho/Andrés Peralta/Tesis/Código/wave_44kHz\u001b[39m\u001b[39m'\u001b[39m \u001b[39m+\u001b[39m \u001b[39m'\u001b[39m\u001b[39m/\u001b[39m\u001b[39m'\u001b[39m \u001b[39m+\u001b[39m audio) ]\n\u001b[1;32m      3\u001b[0m \u001b[39mfor\u001b[39;00m audio \u001b[39min\u001b[39;00m audios:\n\u001b[0;32m----> 4\u001b[0m   signal, sr \u001b[39m=\u001b[39m sf\u001b[39m.\u001b[39;49mread(\u001b[39m'\u001b[39;49m\u001b[39m/home/andres/Área de Trabalho/Andrés Peralta/Tesis/Código/44Hz.Wav\u001b[39;49m\u001b[39m'\u001b[39;49m \u001b[39m+\u001b[39;49m \u001b[39m'\u001b[39;49m\u001b[39m/\u001b[39;49m\u001b[39m'\u001b[39;49m \u001b[39m+\u001b[39;49m audio, dtype\u001b[39m=\u001b[39;49m\u001b[39m'\u001b[39;49m\u001b[39mfloat32\u001b[39;49m\u001b[39m'\u001b[39;49m)\n\u001b[1;32m      5\u001b[0m   signal \u001b[39m=\u001b[39m signal\u001b[39m.\u001b[39mT\n\u001b[1;32m      6\u001b[0m   signal_22k \u001b[39m=\u001b[39m lb\u001b[39m.\u001b[39mresample(signal, orig_sr\u001b[39m=\u001b[39msr, target_sr\u001b[39m=\u001b[39m\u001b[39m22050\u001b[39m, scale\u001b[39m=\u001b[39m\u001b[39mTrue\u001b[39;00m)\n",
      "File \u001b[0;32m~/.local/lib/python3.10/site-packages/soundfile.py:285\u001b[0m, in \u001b[0;36mread\u001b[0;34m(file, frames, start, stop, dtype, always_2d, fill_value, out, samplerate, channels, format, subtype, endian, closefd)\u001b[0m\n\u001b[1;32m    199\u001b[0m \u001b[39mdef\u001b[39;00m \u001b[39mread\u001b[39m(file, frames\u001b[39m=\u001b[39m\u001b[39m-\u001b[39m\u001b[39m1\u001b[39m, start\u001b[39m=\u001b[39m\u001b[39m0\u001b[39m, stop\u001b[39m=\u001b[39m\u001b[39mNone\u001b[39;00m, dtype\u001b[39m=\u001b[39m\u001b[39m'\u001b[39m\u001b[39mfloat64\u001b[39m\u001b[39m'\u001b[39m, always_2d\u001b[39m=\u001b[39m\u001b[39mFalse\u001b[39;00m,\n\u001b[1;32m    200\u001b[0m          fill_value\u001b[39m=\u001b[39m\u001b[39mNone\u001b[39;00m, out\u001b[39m=\u001b[39m\u001b[39mNone\u001b[39;00m, samplerate\u001b[39m=\u001b[39m\u001b[39mNone\u001b[39;00m, channels\u001b[39m=\u001b[39m\u001b[39mNone\u001b[39;00m,\n\u001b[1;32m    201\u001b[0m          \u001b[39mformat\u001b[39m\u001b[39m=\u001b[39m\u001b[39mNone\u001b[39;00m, subtype\u001b[39m=\u001b[39m\u001b[39mNone\u001b[39;00m, endian\u001b[39m=\u001b[39m\u001b[39mNone\u001b[39;00m, closefd\u001b[39m=\u001b[39m\u001b[39mTrue\u001b[39;00m):\n\u001b[1;32m    202\u001b[0m \u001b[39m    \u001b[39m\u001b[39m\"\"\"Provide audio data from a sound file as NumPy array.\u001b[39;00m\n\u001b[1;32m    203\u001b[0m \n\u001b[1;32m    204\u001b[0m \u001b[39m    By default, the whole file is read from the beginning, but the\u001b[39;00m\n\u001b[0;32m   (...)\u001b[0m\n\u001b[1;32m    283\u001b[0m \n\u001b[1;32m    284\u001b[0m \u001b[39m    \"\"\"\u001b[39;00m\n\u001b[0;32m--> 285\u001b[0m     \u001b[39mwith\u001b[39;00m SoundFile(file, \u001b[39m'\u001b[39;49m\u001b[39mr\u001b[39;49m\u001b[39m'\u001b[39;49m, samplerate, channels,\n\u001b[1;32m    286\u001b[0m                    subtype, endian, \u001b[39mformat\u001b[39;49m, closefd) \u001b[39mas\u001b[39;00m f:\n\u001b[1;32m    287\u001b[0m         frames \u001b[39m=\u001b[39m f\u001b[39m.\u001b[39m_prepare_read(start, stop, frames)\n\u001b[1;32m    288\u001b[0m         data \u001b[39m=\u001b[39m f\u001b[39m.\u001b[39mread(frames, dtype, always_2d, fill_value, out)\n",
      "File \u001b[0;32m~/.local/lib/python3.10/site-packages/soundfile.py:658\u001b[0m, in \u001b[0;36mSoundFile.__init__\u001b[0;34m(self, file, mode, samplerate, channels, subtype, endian, format, closefd)\u001b[0m\n\u001b[1;32m    655\u001b[0m \u001b[39mself\u001b[39m\u001b[39m.\u001b[39m_mode \u001b[39m=\u001b[39m mode\n\u001b[1;32m    656\u001b[0m \u001b[39mself\u001b[39m\u001b[39m.\u001b[39m_info \u001b[39m=\u001b[39m _create_info_struct(file, mode, samplerate, channels,\n\u001b[1;32m    657\u001b[0m                                  \u001b[39mformat\u001b[39m, subtype, endian)\n\u001b[0;32m--> 658\u001b[0m \u001b[39mself\u001b[39m\u001b[39m.\u001b[39m_file \u001b[39m=\u001b[39m \u001b[39mself\u001b[39;49m\u001b[39m.\u001b[39;49m_open(file, mode_int, closefd)\n\u001b[1;32m    659\u001b[0m \u001b[39mif\u001b[39;00m \u001b[39mset\u001b[39m(mode)\u001b[39m.\u001b[39missuperset(\u001b[39m'\u001b[39m\u001b[39mr+\u001b[39m\u001b[39m'\u001b[39m) \u001b[39mand\u001b[39;00m \u001b[39mself\u001b[39m\u001b[39m.\u001b[39mseekable():\n\u001b[1;32m    660\u001b[0m     \u001b[39m# Move write position to 0 (like in Python file objects)\u001b[39;00m\n\u001b[1;32m    661\u001b[0m     \u001b[39mself\u001b[39m\u001b[39m.\u001b[39mseek(\u001b[39m0\u001b[39m)\n",
      "File \u001b[0;32m~/.local/lib/python3.10/site-packages/soundfile.py:1216\u001b[0m, in \u001b[0;36mSoundFile._open\u001b[0;34m(self, file, mode_int, closefd)\u001b[0m\n\u001b[1;32m   1213\u001b[0m \u001b[39mif\u001b[39;00m file_ptr \u001b[39m==\u001b[39m _ffi\u001b[39m.\u001b[39mNULL:\n\u001b[1;32m   1214\u001b[0m     \u001b[39m# get the actual error code\u001b[39;00m\n\u001b[1;32m   1215\u001b[0m     err \u001b[39m=\u001b[39m _snd\u001b[39m.\u001b[39msf_error(file_ptr)\n\u001b[0;32m-> 1216\u001b[0m     \u001b[39mraise\u001b[39;00m LibsndfileError(err, prefix\u001b[39m=\u001b[39m\u001b[39m\"\u001b[39m\u001b[39mError opening \u001b[39m\u001b[39m{0!r}\u001b[39;00m\u001b[39m: \u001b[39m\u001b[39m\"\u001b[39m\u001b[39m.\u001b[39mformat(\u001b[39mself\u001b[39m\u001b[39m.\u001b[39mname))\n\u001b[1;32m   1217\u001b[0m \u001b[39mif\u001b[39;00m mode_int \u001b[39m==\u001b[39m _snd\u001b[39m.\u001b[39mSFM_WRITE:\n\u001b[1;32m   1218\u001b[0m     \u001b[39m# Due to a bug in libsndfile version <= 1.0.25, frames != 0\u001b[39;00m\n\u001b[1;32m   1219\u001b[0m     \u001b[39m# when opening a named pipe in SFM_WRITE mode.\u001b[39;00m\n\u001b[1;32m   1220\u001b[0m     \u001b[39m# See http://github.com/erikd/libsndfile/issues/77.\u001b[39;00m\n\u001b[1;32m   1221\u001b[0m     \u001b[39mself\u001b[39m\u001b[39m.\u001b[39m_info\u001b[39m.\u001b[39mframes \u001b[39m=\u001b[39m \u001b[39m0\u001b[39m\n",
      "\u001b[0;31mLibsndfileError\u001b[0m: Error opening '/home/andres/Área de Trabalho/Andrés Peralta/Tesis/Código/44Hz.Wav/hylaedactylus_6.wav': System error."
     ]
    }
   ],
   "source": [
    "audios = [audio for audio in os.listdir('/home/andres/Área de Trabalho/Andrés Peralta/Tesis/Código/wave_44kHz') if os.path.isfile('/home/andres/Área de Trabalho/Andrés Peralta/Tesis/Código/wave_44kHz' + '/' + audio) ]\n",
    "\n",
    "for audio in audios:\n",
    "  signal, sr = sf.read('/home/andres/Área de Trabalho/Andrés Peralta/Tesis/Código/44Hz.Wav' + '/' + audio, dtype='float32')\n",
    "  signal = signal.T\n",
    "  signal_22k = lb.resample(signal, orig_sr=sr, target_sr=22050, scale=True)\n",
    "  sf.write('/home/andres/Área de Trabalho/Andrés Peralta/Tesis/Código' + '/' + audio, signal_22k, 22050, subtype= 'PCM_16')"
   ]
  },
  {
   "cell_type": "code",
   "execution_count": null,
   "metadata": {},
   "outputs": [],
   "source": [
    "audios = os.listdir(directorio_audio)"
   ]
  },
  {
   "cell_type": "code",
   "execution_count": null,
   "metadata": {},
   "outputs": [],
   "source": [
    "def normalize_signal(s):\n",
    "    return s/np.max(np.abs(s))"
   ]
  },
  {
   "cell_type": "code",
   "execution_count": null,
   "metadata": {},
   "outputs": [],
   "source": [
    "# Ruta del directorio para cargar los  audios\n",
    "directorio_audio = '/home/andres/Área de Trabalho/Andrés Peralta/Tesis/Código/44Hz.Wav'\n",
    "\n",
    "# Obtener la lista de los nombres de los archivos de audio en el directorio\n",
    "audios = [archivo for archivo in os.listdir(directorio_audio) if archivo.endswith('.wav')]\n",
    "\n",
    "# Crear la carpeta segments si no existe\n",
    "segments_dir = os.path.join(directorio_audio, 'segments')\n",
    "if not os.path.exists(segments_dir):\n",
    "    os.makedirs(segments_dir)\n",
    "\n",
    "# Crear las carpetas train y test dentro de segments si no existen\n",
    "train_dir = os.path.join(segments_dir, 'train')\n",
    "if not os.path.exists(train_dir):\n",
    "    os.makedirs(train_dir)\n",
    "test_dir = os.path.join(segments_dir, 'test')\n",
    "if not os.path.exists(test_dir):\n",
    "    os.makedirs(test_dir)\n",
    "\n",
    "# Crear la carpeta silence en train y test para guardar lso segmentos que no tienen sonido\n",
    "silence_train_dir = os.path.join(train_dir, 'silence')\n",
    "if not os.path.exists(silence_train_dir):\n",
    "    os.makedirs(silence_train_dir)\n",
    "silence_test_dir = os.path.join(test_dir, 'silence')\n",
    "if not os.path.exists(silence_test_dir):\n",
    "    os.makedirs(silence_test_dir)\n",
    "\n",
    "# Lista para almacenar los valores de energía RMS\n",
    "rms_list = []\n",
    "\n",
    "for audio in audios:\n",
    "    input_wavfile = os.path.join(directorio_audio, audio)\n",
    "    sr, signal = wavfile.read(input_wavfile)\n",
    "    signal = normalize_signal(signal)\n",
    "    # Realizar la reducción de ruido a los audios\n",
    "    filtered_signal = nr.reduce_noise(y=signal, sr=sr)\n",
    "    filtered_signal = normalize_signal(filtered_signal)\n",
    "    segments = lb.effects._signal_to_frame_nonsilent(filtered_signal,\n",
    "                                                     frame_length=sr,  # frame_length igual a sr\n",
    "                                                     hop_length=int(sr/2),  # hop_length igual a la mitad de sr\n",
    "                                                     top_db=15)\n",
    "    # Se obtiene el nombre del archivo sin la extensión para crear la carpeta\n",
    "    audio_name = os.path.splitext(audio)[0]\n",
    "\n",
    "    if '1' in audio_name:\n",
    "        # Almacenar los audios con un 1 en la carpeta test\n",
    "        audio_test_dir = os.path.join(test_dir, audio_name)\n",
    "        if not os.path.exists(audio_test_dir):\n",
    "            os.makedirs(audio_test_dir)\n",
    "    else:\n",
    "        # Almacenar los demas audios en la carpeta train\n",
    "        audio_train_dir = os.path.join(train_dir, audio_name)\n",
    "        if not os.path.exists(audio_train_dir):\n",
    "            os.makedirs(audio_train_dir)\n",
    "\n",
    "    # CRear la carpeta 'silence' en 'test' y 'train'\n",
    "    silence_dir = silence_test_dir if '1' in audio_name else silence_train_dir\n",
    "\n",
    "    # Guardar la señal reducida en un nuevo archivo y generar gráficos\n",
    "    for i in range(len(segments)):\n",
    "        segment = filtered_signal[i * int(sr/2):sr + i * int(sr/2)]\n",
    "        rms_value = lb.feature.rms(y=segment, frame_length=sr, hop_length=sr + 1)[0][0]\n",
    "        rms_list.append(rms_value)\n",
    "\n",
    "        out_file = f\"{audio_name}_segment_{i}.wav\"\n",
    "        out_path = os.path.join(audio_test_dir if '1' in audio_name else audio_train_dir, out_file)\n",
    "        \n",
    "        if segments[i]:\n",
    "            color = 'blue'  # Color azul para segmentos con sonido\n",
    "        else:\n",
    "            color = 'red'  # Color rojo para segmentos en silencio\n",
    "            out_path = os.path.join(silence_dir, out_file)\n",
    "            \n",
    "        wavfile.write(out_path, sr, segment)\n",
    "\n",
    "        # Generar gráfico con el color especificado\n",
    "        plt.figure(figsize=(25, 1))\n",
    "        plt.plot(segment, color=color)\n",
    "        plt.ylim([-1, 1])\n",
    "        plt.show()\n"
   ]
  },
  {
   "cell_type": "code",
   "execution_count": null,
   "metadata": {},
   "outputs": [],
   "source": [
    "plt.hist(rms_list, bins=20)\n",
    "plt.show()"
   ]
  },
  {
   "cell_type": "code",
   "execution_count": null,
   "metadata": {},
   "outputs": [],
   "source": [
    "10*np.log(0.02+1e-10)/np.log(10)"
   ]
  },
  {
   "cell_type": "code",
   "execution_count": null,
   "metadata": {},
   "outputs": [],
   "source": [
    "plt.figure(figsize=(25,3))\n",
    "plt.plot(signal, 'r')\n",
    "plt.plot(filtered_signal)"
   ]
  }
 ],
 "metadata": {
  "kernelspec": {
   "display_name": "Python 3",
   "language": "python",
   "name": "python3"
  },
  "language_info": {
   "codemirror_mode": {
    "name": "ipython",
    "version": 3
   },
   "file_extension": ".py",
   "mimetype": "text/x-python",
   "name": "python",
   "nbconvert_exporter": "python",
   "pygments_lexer": "ipython3",
   "version": "3.10.6"
  },
  "orig_nbformat": 4
 },
 "nbformat": 4,
 "nbformat_minor": 2
}
